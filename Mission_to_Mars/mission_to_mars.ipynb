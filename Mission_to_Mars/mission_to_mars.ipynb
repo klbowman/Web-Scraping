{
 "cells": [
  {
   "cell_type": "code",
   "execution_count": 76,
   "id": "1223c982",
   "metadata": {},
   "outputs": [],
   "source": [
    "#Import dependencies\n",
    "import pymongo\n",
    "from bs4 import BeautifulSoup as bs\n",
    "import pandas as pd\n",
    "from splinter import Browser\n",
    "from webdriver_manager.chrome import ChromeDriverManager\n",
    "import requests"
   ]
  },
  {
   "cell_type": "markdown",
   "id": "df5a58c7",
   "metadata": {},
   "source": [
    "NASA Mars News"
   ]
  },
  {
   "cell_type": "code",
   "execution_count": 77,
   "id": "01291171",
   "metadata": {},
   "outputs": [
    {
     "name": "stderr",
     "output_type": "stream",
     "text": [
      "[WDM] - \n",
      "\n",
      "[WDM] - ====== WebDriver manager ======\n",
      "[WDM] - Current google-chrome version is 95.0.4638\n",
      "[WDM] - Get LATEST driver version for 95.0.4638\n",
      "[WDM] - Driver [C:\\Users\\Katli\\.wdm\\drivers\\chromedriver\\win32\\95.0.4638.54\\chromedriver.exe] found in cache\n"
     ]
    }
   ],
   "source": [
    "#Set up splinter\n",
    "executable_path = {'executable_path': ChromeDriverManager().install()}\n",
    "browser = Browser('chrome', **executable_path, headless=False)"
   ]
  },
  {
   "cell_type": "code",
   "execution_count": 18,
   "id": "b24febc3",
   "metadata": {},
   "outputs": [],
   "source": [
    "# Visit the NASA news URL\n",
    "url = \"https://redplanetscience.com/\"\n",
    "browser.visit(url)"
   ]
  },
  {
   "cell_type": "code",
   "execution_count": 19,
   "id": "67c6339f",
   "metadata": {},
   "outputs": [],
   "source": [
    "# Scrape page into soup\n",
    "html = browser.html\n",
    "soup = bs(html, 'html.parser')"
   ]
  },
  {
   "cell_type": "code",
   "execution_count": 20,
   "id": "ac05d4d1",
   "metadata": {},
   "outputs": [],
   "source": [
    "#Collect the latest News Title and Paragraph Text\n",
    "\n",
    " # Retrieve the parent divs for all articles\n",
    "title = soup.find('div', class_= 'content_title').text\n",
    "paragraph = soup.find('div', class_= 'article_teaser_body').text"
   ]
  },
  {
   "cell_type": "code",
   "execution_count": 21,
   "id": "c75ef312",
   "metadata": {},
   "outputs": [
    {
     "name": "stdout",
     "output_type": "stream",
     "text": [
      "NASA Administrator Statement on Moon to Mars Initiative, FY 2021 Budget\n",
      "Jim Bridenstine addresses NASA's ambitious plans for the coming years, including Mars Sample Return.\n"
     ]
    }
   ],
   "source": [
    "print(title)\n",
    "print(paragraph)"
   ]
  },
  {
   "cell_type": "markdown",
   "id": "9db37fdd",
   "metadata": {},
   "source": [
    "JPL Mars Space Images - Featured Image"
   ]
  },
  {
   "cell_type": "code",
   "execution_count": 26,
   "id": "7b318da9",
   "metadata": {},
   "outputs": [],
   "source": [
    "# Connect browser to image url\n",
    "image_url = 'https://spaceimages-mars.com/'\n",
    "browser.visit(image_url)"
   ]
  },
  {
   "cell_type": "code",
   "execution_count": 28,
   "id": "6b92133c",
   "metadata": {},
   "outputs": [
    {
     "name": "stdout",
     "output_type": "stream",
     "text": [
      "https://spaceimages-mars.com/image/featured/mars1.jpg\n"
     ]
    }
   ],
   "source": [
    "# Use splinter to find the full image url\n",
    "full_size_url = browser.links.find_by_partial_text('FULL IMAGE')['href']\n",
    "\n",
    "print(full_size_url)"
   ]
  },
  {
   "cell_type": "markdown",
   "id": "535afcba",
   "metadata": {},
   "source": [
    "Mars Facts"
   ]
  },
  {
   "cell_type": "code",
   "execution_count": 29,
   "id": "102d3fd5",
   "metadata": {},
   "outputs": [
    {
     "data": {
      "text/plain": [
       "'<table border=\"1\" class=\"dataframe\">  <thead>    <tr style=\"text-align: right;\">      <th></th>      <th>Mars</th>      <th>Earth</th>    </tr>    <tr>      <th>Mars-Earth Comparison</th>      <th></th>      <th></th>    </tr>  </thead>  <tbody>    <tr>      <th>Diameter:</th>      <td>6,779 km</td>      <td>12,742 km</td>    </tr>    <tr>      <th>Mass:</th>      <td>6.39 × 10^23 kg</td>      <td>5.97 × 10^24 kg</td>    </tr>    <tr>      <th>Moons:</th>      <td>2</td>      <td>1</td>    </tr>    <tr>      <th>Distance from Sun:</th>      <td>227,943,824 km</td>      <td>149,598,262 km</td>    </tr>    <tr>      <th>Length of Year:</th>      <td>687 Earth days</td>      <td>365.24 days</td>    </tr>    <tr>      <th>Temperature:</th>      <td>-87 to -5 °C</td>      <td>-88 to 58°C</td>    </tr>  </tbody></table>'"
      ]
     },
     "execution_count": 29,
     "metadata": {},
     "output_type": "execute_result"
    }
   ],
   "source": [
    "# URL of news page to be scraped\n",
    "facts_url = 'https://galaxyfacts-mars.com/'\n",
    "# Use Panda's `read_html` to parse the url\n",
    "table = pd.read_html(facts_url)\n",
    "mars_df = table[0]\n",
    "mars_df.columns = ['Mars-Earth Comparison', 'Mars', 'Earth']\n",
    "mars_df = mars_df.drop([0])\n",
    "mars_df = mars_df.set_index(['Mars-Earth Comparison'])\n",
    "mars_table = mars_df.to_html()\n",
    "mars_table = mars_table.replace(\"\\n\", \"\")\n",
    "mars_table"
   ]
  },
  {
   "cell_type": "markdown",
   "id": "1fb9d0fd",
   "metadata": {},
   "source": [
    "Mars Hemispheres"
   ]
  },
  {
   "cell_type": "code",
   "execution_count": 110,
   "id": "20fcfc46",
   "metadata": {},
   "outputs": [],
   "source": [
    "# Connect browser to image url\n",
    "images_url = 'https://marshemispheres.com/'\n",
    "browser.visit(images_url)\n",
    "html = browser.html\n",
    "soup = bs(html, 'html.parser')\n",
    "\n",
    "# Create empty list to hold titles\n",
    "img = []\n",
    "\n",
    "for i in range (4):\n",
    "\n",
    "    browser.links.find_by_partial_text('Enhanced').click()\n",
    "        \n",
    "    html = browser.html\n",
    "    soup = bs(html, 'html.parser')\n",
    "    # Retrieve all elements that contain book information\n",
    "    images = soup.find('img', class_=\"wide-image\")['src']\n",
    "    img.append(images_url+images)\n",
    "    browser.back()"
   ]
  },
  {
   "cell_type": "code",
   "execution_count": 111,
   "id": "85c7e79d",
   "metadata": {},
   "outputs": [
    {
     "data": {
      "text/plain": [
       "['https://marshemispheres.com/images/f5e372a36edfa389625da6d0cc25d905_cerberus_enhanced.tif_full.jpg',\n",
       " 'https://marshemispheres.com/images/f5e372a36edfa389625da6d0cc25d905_cerberus_enhanced.tif_full.jpg',\n",
       " 'https://marshemispheres.com/images/f5e372a36edfa389625da6d0cc25d905_cerberus_enhanced.tif_full.jpg',\n",
       " 'https://marshemispheres.com/images/f5e372a36edfa389625da6d0cc25d905_cerberus_enhanced.tif_full.jpg']"
      ]
     },
     "execution_count": 111,
     "metadata": {},
     "output_type": "execute_result"
    }
   ],
   "source": [
    "img"
   ]
  },
  {
   "cell_type": "code",
   "execution_count": 103,
   "id": "55af47db",
   "metadata": {},
   "outputs": [
    {
     "data": {
      "text/plain": [
       "['Cerberus Hemisphere Enhanced',\n",
       " 'Schiaparelli Hemisphere Enhanced',\n",
       " 'Syrtis Major Hemisphere Enhanced',\n",
       " 'Valles Marineris Hemisphere Enhanced']"
      ]
     },
     "execution_count": 103,
     "metadata": {},
     "output_type": "execute_result"
    }
   ],
   "source": [
    "# Connect browser to image url\n",
    "images_url = 'https://marshemispheres.com/'\n",
    "browser.visit(images_url)\n",
    "html = browser.html\n",
    "soup = bs(html, 'html.parser')\n",
    "\n",
    "# Create empty list to hold titles\n",
    "labels = []\n",
    "\n",
    "# Retrieve hemisphere titles\n",
    "results = soup.find_all('div', class_='item')\n",
    "\n",
    "for result in results:\n",
    "    titles = result.find('h3').text\n",
    "    labels.append(titles) \n",
    "    \n",
    "labels"
   ]
  },
  {
   "cell_type": "code",
   "execution_count": 106,
   "id": "c6555ace",
   "metadata": {},
   "outputs": [],
   "source": [
    "#Append the dictionary with the image url string and the hemisphere title to a list.\n",
    "hemisphere_image_urls = [\n",
    "    {\"title\": labels[0], \"img_url\":img[0]},\n",
    "    {\"title\": labels[1], \"img_url\": img[1]},\n",
    "    {\"title\": labels[2], \"img_url\": img[2]},\n",
    "    {\"title\": labels[3], \"img_url\": img[3]},\n",
    "]\n"
   ]
  },
  {
   "cell_type": "code",
   "execution_count": 107,
   "id": "e18f3e22",
   "metadata": {},
   "outputs": [
    {
     "data": {
      "text/plain": [
       "[{'title': 'Cerberus Hemisphere Enhanced',\n",
       "  'img_url': 'https://spaceimages-mars.com/images/f5e372a36edfa389625da6d0cc25d905_cerberus_enhanced.tif_full.jpg'},\n",
       " {'title': 'Schiaparelli Hemisphere Enhanced',\n",
       "  'img_url': 'https://spaceimages-mars.com/images/f5e372a36edfa389625da6d0cc25d905_cerberus_enhanced.tif_full.jpg'},\n",
       " {'title': 'Syrtis Major Hemisphere Enhanced',\n",
       "  'img_url': 'https://spaceimages-mars.com/images/f5e372a36edfa389625da6d0cc25d905_cerberus_enhanced.tif_full.jpg'},\n",
       " {'title': 'Valles Marineris Hemisphere Enhanced',\n",
       "  'img_url': 'https://spaceimages-mars.com/images/f5e372a36edfa389625da6d0cc25d905_cerberus_enhanced.tif_full.jpg'}]"
      ]
     },
     "execution_count": 107,
     "metadata": {},
     "output_type": "execute_result"
    }
   ],
   "source": [
    "# Check dictionary\n",
    "hemisphere_image_urls"
   ]
  },
  {
   "cell_type": "code",
   "execution_count": 112,
   "id": "887e53ad",
   "metadata": {},
   "outputs": [],
   "source": [
    "#Append the dictionary with the image url string and the hemisphere title to a list.\n",
    "    mars_scrape = {\n",
    "        \"title1\": labels[0], \"img_url1\":img[0],\n",
    "        \"title2\": labels[1], \"img_url2\": img[1],\n",
    "        \"title3\": labels[2], \"img_url3\": img[2],\n",
    "        \"title4\": labels[3], \"img_url4\": img[3],\n",
    "        \"news_title\": title,\n",
    "        \"text\": paragraph,\n",
    "        \"full_image\": full_size_url,\n",
    "        \"table\": mars_table}"
   ]
  },
  {
   "cell_type": "code",
   "execution_count": 113,
   "id": "e7c04ff4",
   "metadata": {},
   "outputs": [
    {
     "data": {
      "text/plain": [
       "{'title1': 'Cerberus Hemisphere Enhanced',\n",
       " 'img_url1': 'https://marshemispheres.com/images/f5e372a36edfa389625da6d0cc25d905_cerberus_enhanced.tif_full.jpg',\n",
       " 'title2': 'Schiaparelli Hemisphere Enhanced',\n",
       " 'img_url2': 'https://marshemispheres.com/images/f5e372a36edfa389625da6d0cc25d905_cerberus_enhanced.tif_full.jpg',\n",
       " 'title3': 'Syrtis Major Hemisphere Enhanced',\n",
       " 'img_url3': 'https://marshemispheres.com/images/f5e372a36edfa389625da6d0cc25d905_cerberus_enhanced.tif_full.jpg',\n",
       " 'title4': 'Valles Marineris Hemisphere Enhanced',\n",
       " 'img_url4': 'https://marshemispheres.com/images/f5e372a36edfa389625da6d0cc25d905_cerberus_enhanced.tif_full.jpg',\n",
       " 'news_title': 'NASA Administrator Statement on Moon to Mars Initiative, FY 2021 Budget',\n",
       " 'text': \"Jim Bridenstine addresses NASA's ambitious plans for the coming years, including Mars Sample Return.\",\n",
       " 'full_image': 'https://spaceimages-mars.com/image/featured/mars1.jpg',\n",
       " 'table': '<table border=\"1\" class=\"dataframe\">  <thead>    <tr style=\"text-align: right;\">      <th></th>      <th>Mars</th>      <th>Earth</th>    </tr>    <tr>      <th>Mars-Earth Comparison</th>      <th></th>      <th></th>    </tr>  </thead>  <tbody>    <tr>      <th>Diameter:</th>      <td>6,779 km</td>      <td>12,742 km</td>    </tr>    <tr>      <th>Mass:</th>      <td>6.39 × 10^23 kg</td>      <td>5.97 × 10^24 kg</td>    </tr>    <tr>      <th>Moons:</th>      <td>2</td>      <td>1</td>    </tr>    <tr>      <th>Distance from Sun:</th>      <td>227,943,824 km</td>      <td>149,598,262 km</td>    </tr>    <tr>      <th>Length of Year:</th>      <td>687 Earth days</td>      <td>365.24 days</td>    </tr>    <tr>      <th>Temperature:</th>      <td>-87 to -5 °C</td>      <td>-88 to 58°C</td>    </tr>  </tbody></table>'}"
      ]
     },
     "execution_count": 113,
     "metadata": {},
     "output_type": "execute_result"
    }
   ],
   "source": [
    "mars_scrape"
   ]
  },
  {
   "cell_type": "code",
   "execution_count": 114,
   "id": "ad37e7db",
   "metadata": {},
   "outputs": [],
   "source": [
    "# Close the browser after scraping\n",
    "browser.quit()"
   ]
  }
 ],
 "metadata": {
  "kernelspec": {
   "display_name": "venv",
   "language": "python",
   "name": "venv"
  },
  "language_info": {
   "codemirror_mode": {
    "name": "ipython",
    "version": 3
   },
   "file_extension": ".py",
   "mimetype": "text/x-python",
   "name": "python",
   "nbconvert_exporter": "python",
   "pygments_lexer": "ipython3",
   "version": "3.6.10"
  }
 },
 "nbformat": 4,
 "nbformat_minor": 5
}
